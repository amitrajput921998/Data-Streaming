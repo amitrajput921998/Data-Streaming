{
 "cells": [
  {
   "cell_type": "code",
   "execution_count": 0,
   "metadata": {
    "application/vnd.databricks.v1+cell": {
     "cellMetadata": {
      "byteLimit": 2048000,
      "rowLimit": 10000
     },
     "inputWidgets": {},
     "nuid": "1d37c2cb-7277-44ee-a493-f9f1ff719c1e",
     "showTitle": false,
     "tableResultSettingsMap": {},
     "title": ""
    }
   },
   "outputs": [
    {
     "name": "stdout",
     "output_type": "stream",
     "text": [
      "Python interpreter will be restarted.\n",
      "Requirement already satisfied: confluent_kafka in /local_disk0/.ephemeral_nfs/envs/pythonEnv-47fe669c-33ca-4c33-a9bd-48a023f9686e/lib/python3.9/site-packages (2.8.0)\n",
      "Python interpreter will be restarted.\n"
     ]
    }
   ],
   "source": [
    "pip install confluent_kafka"
   ]
  },
  {
   "cell_type": "code",
   "execution_count": 0,
   "metadata": {
    "application/vnd.databricks.v1+cell": {
     "cellMetadata": {
      "byteLimit": 2048000,
      "rowLimit": 10000
     },
     "inputWidgets": {},
     "nuid": "db3af278-ca37-4b5e-a026-34903c8019e7",
     "showTitle": false,
     "tableResultSettingsMap": {},
     "title": ""
    }
   },
   "outputs": [
    {
     "name": "stdout",
     "output_type": "stream",
     "text": [
      "Python interpreter will be restarted.\n",
      "Requirement already satisfied: faker in /local_disk0/.ephemeral_nfs/envs/pythonEnv-47fe669c-33ca-4c33-a9bd-48a023f9686e/lib/python3.9/site-packages (36.1.1)\n",
      "Requirement already satisfied: tzdata in /local_disk0/.ephemeral_nfs/envs/pythonEnv-47fe669c-33ca-4c33-a9bd-48a023f9686e/lib/python3.9/site-packages (from faker) (2025.1)\n",
      "Python interpreter will be restarted.\n"
     ]
    }
   ],
   "source": [
    "pip install faker"
   ]
  },
  {
   "cell_type": "code",
   "execution_count": 0,
   "metadata": {
    "application/vnd.databricks.v1+cell": {
     "cellMetadata": {
      "byteLimit": 2048000,
      "rowLimit": 10000
     },
     "inputWidgets": {},
     "nuid": "16f57821-46db-42a4-81a2-958008977677",
     "showTitle": false,
     "tableResultSettingsMap": {},
     "title": ""
    }
   },
   "outputs": [],
   "source": [
    "from confluent_kafka import Producer\n",
    "import json\n",
    "import random\n",
    "from faker import Faker\n",
    "import time\n",
    "\n"
   ]
  },
  {
   "cell_type": "code",
   "execution_count": 0,
   "metadata": {
    "application/vnd.databricks.v1+cell": {
     "cellMetadata": {
      "byteLimit": 2048000,
      "rowLimit": 10000
     },
     "inputWidgets": {},
     "nuid": "fab3c627-26a0-48b6-bc58-9409261a62f1",
     "showTitle": false,
     "tableResultSettingsMap": {},
     "title": ""
    }
   },
   "outputs": [],
   "source": [
    "fake=Faker()\n",
    "conf={\n",
    "    'bootstrap.servers':'pkc-619z3.us-east1.gcp.confluent.cloud:9092',\n",
    "    'security.protocol':'SASL_SSL',\n",
    "    'sasl.mechanism':'PLAIN',\n",
    "    'sasl.username':'GLY357XI34BPEB22',\n",
    "    'sasl.password':'qU7C7sssF2fajcZTSSfb0IgdxSoaf9cLiOtH5QYRQnLV2OvtORfsssxRKaQPY0XeZnc8'\n",
    "}"
   ]
  },
  {
   "cell_type": "code",
   "execution_count": 0,
   "metadata": {
    "application/vnd.databricks.v1+cell": {
     "cellMetadata": {
      "byteLimit": 2048000,
      "rowLimit": 10000
     },
     "inputWidgets": {},
     "nuid": "d3512ced-971d-4651-80f7-d40bfa954e1a",
     "showTitle": false,
     "tableResultSettingsMap": {},
     "title": ""
    }
   },
   "outputs": [],
   "source": [
    "topic=\"streaming_data\"\n",
    "\n",
    "#create kafka producer\n",
    "producer=Producer(conf)\n",
    "\n",
    "\n",
    "def generate_data():\n",
    "    data = {\n",
    "       \"id\":fake.uuid4(),\n",
    "       \"name\":fake.name(),\n",
    "       \"age\":random.randint(18,60),\n",
    "       \"city\":fake.city(),\n",
    "       \"timestamp\":time.time()\n",
    "    }\n",
    "    return data\n",
    "    \n",
    "\n",
    "    "
   ]
  },
  {
   "cell_type": "code",
   "execution_count": 0,
   "metadata": {
    "application/vnd.databricks.v1+cell": {
     "cellMetadata": {
      "byteLimit": 2048000,
      "rowLimit": 10000
     },
     "inputWidgets": {},
     "nuid": "779791f2-fc2a-4e26-8ce6-b33c0ea461d1",
     "showTitle": false,
     "tableResultSettingsMap": {},
     "title": ""
    }
   },
   "outputs": [],
   "source": [
    "def delivery_report(err,msg):\n",
    "    if err is not None:\n",
    "        print(f\"Message is not delivered to Kafka {err}\")\n",
    "    else:\n",
    "        print(f\"Msg delivered to {msg.topic()},{msg.partition()},{msg}\")"
   ]
  },
  {
   "cell_type": "code",
   "execution_count": 0,
   "metadata": {
    "application/vnd.databricks.v1+cell": {
     "cellMetadata": {
      "byteLimit": 2048000,
      "rowLimit": 10000
     },
     "inputWidgets": {},
     "nuid": "f444491f-1e9c-491b-a6ea-35f08141722e",
     "showTitle": false,
     "tableResultSettingsMap": {},
     "title": ""
    }
   },
   "outputs": [
    {
     "name": "stdout",
     "output_type": "stream",
     "text": [
      "Msg delivered to streaming_data,2,<cimpl.Message object at 0x7f8ab8579ec0>\n",
      "Msg delivered to streaming_data,0,<cimpl.Message object at 0x7f8ab8579ec0>\n",
      "Msg delivered to streaming_data,1,<cimpl.Message object at 0x7f8ab8579ec0>\n",
      "Msg delivered to streaming_data,1,<cimpl.Message object at 0x7f8ab8579ec0>\n",
      "Msg delivered to streaming_data,5,<cimpl.Message object at 0x7f8ab8579ec0>\n",
      "Msg delivered to streaming_data,0,<cimpl.Message object at 0x7f8ab8579ec0>\n",
      "Msg delivered to streaming_data,3,<cimpl.Message object at 0x7f8ab8579ec0>\n",
      "Msg delivered to streaming_data,4,<cimpl.Message object at 0x7f8ab8579ec0>\n",
      "Msg delivered to streaming_data,1,<cimpl.Message object at 0x7f8ab8579ec0>\n",
      "Msg delivered to streaming_data,2,<cimpl.Message object at 0x7f8ab8579ec0>\n",
      "Msg delivered to streaming_data,1,<cimpl.Message object at 0x7f8ab8579ec0>\n",
      "Msg delivered to streaming_data,2,<cimpl.Message object at 0x7f8ab8579ec0>\n",
      "Msg delivered to streaming_data,2,<cimpl.Message object at 0x7f8ab8579ec0>\n",
      "Msg delivered to streaming_data,4,<cimpl.Message object at 0x7f8ab8579ec0>\n",
      "Msg delivered to streaming_data,5,<cimpl.Message object at 0x7f8ab8579ec0>\n",
      "Msg delivered to streaming_data,5,<cimpl.Message object at 0x7f8ab8579ec0>\n",
      "Msg delivered to streaming_data,3,<cimpl.Message object at 0x7f8ab8579ec0>\n",
      "Msg delivered to streaming_data,1,<cimpl.Message object at 0x7f8ab8579ec0>\n",
      "Msg delivered to streaming_data,2,<cimpl.Message object at 0x7f8ab8579ec0>\n",
      "Msg delivered to streaming_data,3,<cimpl.Message object at 0x7f8ab8579ec0>\n",
      "Msg delivered to streaming_data,5,<cimpl.Message object at 0x7f8ab8579ec0>\n",
      "Msg delivered to streaming_data,5,<cimpl.Message object at 0x7f8ab8579ec0>\n",
      "Msg delivered to streaming_data,4,<cimpl.Message object at 0x7f8ab8579ec0>\n",
      "Msg delivered to streaming_data,3,<cimpl.Message object at 0x7f8ab8579ec0>\n",
      "Msg delivered to streaming_data,0,<cimpl.Message object at 0x7f8ab8579ec0>\n",
      "Msg delivered to streaming_data,5,<cimpl.Message object at 0x7f8ab8579ec0>\n",
      "Msg delivered to streaming_data,3,<cimpl.Message object at 0x7f8ab8579ec0>\n",
      "Msg delivered to streaming_data,4,<cimpl.Message object at 0x7f8ab8579ec0>\n",
      "Msg delivered to streaming_data,0,<cimpl.Message object at 0x7f8ab8579ec0>\n",
      "Msg delivered to streaming_data,4,<cimpl.Message object at 0x7f8ab8579ec0>\n",
      "Msg delivered to streaming_data,1,<cimpl.Message object at 0x7f8ab8579ec0>\n",
      "Msg delivered to streaming_data,4,<cimpl.Message object at 0x7f8ab8579ec0>\n",
      "Msg delivered to streaming_data,5,<cimpl.Message object at 0x7f8ab8579ec0>\n",
      "Msg delivered to streaming_data,5,<cimpl.Message object at 0x7f8ab8579ec0>\n",
      "Msg delivered to streaming_data,4,<cimpl.Message object at 0x7f8ab8579ec0>\n",
      "Msg delivered to streaming_data,3,<cimpl.Message object at 0x7f8ab8579ec0>\n",
      "Msg delivered to streaming_data,3,<cimpl.Message object at 0x7f8ab8579ec0>\n",
      "Msg delivered to streaming_data,5,<cimpl.Message object at 0x7f8ab8579ec0>\n",
      "Msg delivered to streaming_data,1,<cimpl.Message object at 0x7f8ab8579ec0>\n",
      "Msg delivered to streaming_data,0,<cimpl.Message object at 0x7f8ab8579ec0>\n",
      "Msg delivered to streaming_data,2,<cimpl.Message object at 0x7f8ab8579ec0>\n",
      "Msg delivered to streaming_data,3,<cimpl.Message object at 0x7f8ab8579ec0>\n",
      "Msg delivered to streaming_data,0,<cimpl.Message object at 0x7f8ab8579ec0>\n",
      "Msg delivered to streaming_data,5,<cimpl.Message object at 0x7f8ab8579ec0>\n",
      "Msg delivered to streaming_data,1,<cimpl.Message object at 0x7f8ab8579ec0>\n",
      "Msg delivered to streaming_data,5,<cimpl.Message object at 0x7f8ab8579ec0>\n",
      "Msg delivered to streaming_data,5,<cimpl.Message object at 0x7f8ab8579ec0>\n",
      "Msg delivered to streaming_data,0,<cimpl.Message object at 0x7f8ab8579ec0>\n",
      "Msg delivered to streaming_data,2,<cimpl.Message object at 0x7f8ab8579ec0>\n",
      "Msg delivered to streaming_data,5,<cimpl.Message object at 0x7f8ab8579ec0>\n",
      "Msg delivered to streaming_data,4,<cimpl.Message object at 0x7f8ab8579ec0>\n",
      "Msg delivered to streaming_data,0,<cimpl.Message object at 0x7f8ab8579ec0>\n",
      "Msg delivered to streaming_data,4,<cimpl.Message object at 0x7f8ab8579ec0>\n",
      "Msg delivered to streaming_data,5,<cimpl.Message object at 0x7f8ab8579ec0>\n",
      "Msg delivered to streaming_data,3,<cimpl.Message object at 0x7f8ab8579ec0>\n",
      "Msg delivered to streaming_data,2,<cimpl.Message object at 0x7f8ab8579ec0>\n",
      "Msg delivered to streaming_data,4,<cimpl.Message object at 0x7f8ab8579ec0>\n",
      "Msg delivered to streaming_data,0,<cimpl.Message object at 0x7f8ab8579ec0>\n",
      "Msg delivered to streaming_data,3,<cimpl.Message object at 0x7f8ab8579ec0>\n",
      "Msg delivered to streaming_data,0,<cimpl.Message object at 0x7f8ab8579ec0>\n",
      "Msg delivered to streaming_data,0,<cimpl.Message object at 0x7f8ab8579ec0>\n",
      "Msg delivered to streaming_data,3,<cimpl.Message object at 0x7f8ab8579ec0>\n",
      "Msg delivered to streaming_data,1,<cimpl.Message object at 0x7f8ab8579ec0>\n",
      "Msg delivered to streaming_data,3,<cimpl.Message object at 0x7f8ab8579ec0>\n",
      "Msg delivered to streaming_data,0,<cimpl.Message object at 0x7f8ab8579ec0>\n",
      "Msg delivered to streaming_data,0,<cimpl.Message object at 0x7f8ab8579ec0>\n",
      "Msg delivered to streaming_data,4,<cimpl.Message object at 0x7f8ab8579ec0>\n",
      "Msg delivered to streaming_data,4,<cimpl.Message object at 0x7f8ab8579ec0>\n",
      "Msg delivered to streaming_data,0,<cimpl.Message object at 0x7f8ab8579ec0>\n",
      "Msg delivered to streaming_data,2,<cimpl.Message object at 0x7f8ab8579ec0>\n",
      "Msg delivered to streaming_data,1,<cimpl.Message object at 0x7f8ab8579ec0>\n",
      "Msg delivered to streaming_data,0,<cimpl.Message object at 0x7f8ab8579ec0>\n",
      "Msg delivered to streaming_data,1,<cimpl.Message object at 0x7f8ab8579ec0>\n",
      "Msg delivered to streaming_data,1,<cimpl.Message object at 0x7f8ab8579ec0>\n",
      "Msg delivered to streaming_data,1,<cimpl.Message object at 0x7f8ab8579ec0>\n",
      "Msg delivered to streaming_data,2,<cimpl.Message object at 0x7f8ab8579ec0>\n",
      "Msg delivered to streaming_data,0,<cimpl.Message object at 0x7f8ab8579ec0>\n",
      "Msg delivered to streaming_data,5,<cimpl.Message object at 0x7f8ab8579ec0>\n",
      "Msg delivered to streaming_data,4,<cimpl.Message object at 0x7f8ab8579ec0>\n",
      "Msg delivered to streaming_data,2,<cimpl.Message object at 0x7f8ab8579ec0>\n",
      "Msg delivered to streaming_data,5,<cimpl.Message object at 0x7f8ab8579ec0>\n",
      "Msg delivered to streaming_data,2,<cimpl.Message object at 0x7f8ab8579ec0>\n",
      "Msg delivered to streaming_data,2,<cimpl.Message object at 0x7f8ab8579ec0>\n",
      "Msg delivered to streaming_data,4,<cimpl.Message object at 0x7f8ab8579ec0>\n",
      "Msg delivered to streaming_data,3,<cimpl.Message object at 0x7f8ab8579ec0>\n",
      "Msg delivered to streaming_data,3,<cimpl.Message object at 0x7f8ab8579ec0>\n",
      "Msg delivered to streaming_data,5,<cimpl.Message object at 0x7f8ab8579ec0>\n",
      "Msg delivered to streaming_data,3,<cimpl.Message object at 0x7f8ab8579ec0>\n",
      "Msg delivered to streaming_data,3,<cimpl.Message object at 0x7f8ab8579ec0>\n",
      "Msg delivered to streaming_data,3,<cimpl.Message object at 0x7f8ab8579ec0>\n",
      "Msg delivered to streaming_data,1,<cimpl.Message object at 0x7f8ab8579ec0>\n",
      "Msg delivered to streaming_data,5,<cimpl.Message object at 0x7f8ab8579ec0>\n",
      "Msg delivered to streaming_data,1,<cimpl.Message object at 0x7f8ab8579ec0>\n",
      "Msg delivered to streaming_data,1,<cimpl.Message object at 0x7f8ab8579ec0>\n",
      "Msg delivered to streaming_data,5,<cimpl.Message object at 0x7f8ab8579ec0>\n",
      "Msg delivered to streaming_data,1,<cimpl.Message object at 0x7f8ab8579ec0>\n",
      "Msg delivered to streaming_data,3,<cimpl.Message object at 0x7f8ab8579ec0>\n",
      "Msg delivered to streaming_data,1,<cimpl.Message object at 0x7f8ab8579ec0>\n",
      "Msg delivered to streaming_data,0,<cimpl.Message object at 0x7f8ab8579ec0>\n",
      "Msg delivered to streaming_data,5,<cimpl.Message object at 0x7f8ab8579ec0>\n",
      "Msg delivered to streaming_data,4,<cimpl.Message object at 0x7f8ab8579ec0>\n",
      "Msg delivered to streaming_data,3,<cimpl.Message object at 0x7f8ab8579ec0>\n",
      "Msg delivered to streaming_data,2,<cimpl.Message object at 0x7f8ab8579ec0>\n",
      "Msg delivered to streaming_data,0,<cimpl.Message object at 0x7f8ab8579ec0>\n",
      "Msg delivered to streaming_data,1,<cimpl.Message object at 0x7f8ab8579ec0>\n",
      "Msg delivered to streaming_data,5,<cimpl.Message object at 0x7f8ab8579ec0>\n",
      "Msg delivered to streaming_data,3,<cimpl.Message object at 0x7f8ab8579ec0>\n",
      "Msg delivered to streaming_data,2,<cimpl.Message object at 0x7f8ab8579ec0>\n",
      "Msg delivered to streaming_data,5,<cimpl.Message object at 0x7f8ab8579ec0>\n",
      "Msg delivered to streaming_data,0,<cimpl.Message object at 0x7f8ab8579ec0>\n",
      "Msg delivered to streaming_data,2,<cimpl.Message object at 0x7f8ab8579ec0>\n",
      "Msg delivered to streaming_data,0,<cimpl.Message object at 0x7f8ab8579ec0>\n",
      "Msg delivered to streaming_data,1,<cimpl.Message object at 0x7f8ab8579ec0>\n",
      "Msg delivered to streaming_data,3,<cimpl.Message object at 0x7f8ab8579ec0>\n",
      "Msg delivered to streaming_data,1,<cimpl.Message object at 0x7f8ab8579ec0>\n",
      "Msg delivered to streaming_data,3,<cimpl.Message object at 0x7f8ab8579ec0>\n",
      "Msg delivered to streaming_data,2,<cimpl.Message object at 0x7f8ab8579ec0>\n",
      "Msg delivered to streaming_data,5,<cimpl.Message object at 0x7f8ab8579ec0>\n",
      "Msg delivered to streaming_data,0,<cimpl.Message object at 0x7f8ab8579ec0>\n",
      "Msg delivered to streaming_data,2,<cimpl.Message object at 0x7f8ab8579ec0>\n",
      "Msg delivered to streaming_data,3,<cimpl.Message object at 0x7f8ab8579ec0>\n",
      "Msg delivered to streaming_data,1,<cimpl.Message object at 0x7f8ab8579ec0>\n",
      "Msg delivered to streaming_data,3,<cimpl.Message object at 0x7f8ab8579ec0>\n",
      "Msg delivered to streaming_data,4,<cimpl.Message object at 0x7f8ab8579ec0>\n",
      "Msg delivered to streaming_data,4,<cimpl.Message object at 0x7f8ab8579ec0>\n",
      "Msg delivered to streaming_data,1,<cimpl.Message object at 0x7f8ab8579ec0>\n",
      "Msg delivered to streaming_data,3,<cimpl.Message object at 0x7f8ab8579ec0>\n",
      "Msg delivered to streaming_data,4,<cimpl.Message object at 0x7f8ab8579ec0>\n",
      "Msg delivered to streaming_data,2,<cimpl.Message object at 0x7f8ab8579ec0>\n"
     ]
    },
    {
     "data": {
      "text/html": [
       "<style scoped>\n",
       "  .ansiout {\n",
       "    display: block;\n",
       "    unicode-bidi: embed;\n",
       "    white-space: pre-wrap;\n",
       "    word-wrap: break-word;\n",
       "    word-break: break-all;\n",
       "    font-family: \"Menlo\", \"Monaco\", \"Consolas\", \"Ubuntu Mono\", \"Source Code Pro\", monospace;\n",
       "    font-size: 13px;\n",
       "    color: #555;\n",
       "    margin-left: 4px;\n",
       "    line-height: 19px;\n",
       "  }\n",
       "</style>"
      ]
     },
     "metadata": {
      "application/vnd.databricks.v1+output": {
       "arguments": {},
       "data": "",
       "errorSummary": "Cancelled",
       "errorTraceType": "html",
       "metadata": {},
       "type": "ipynbError"
      }
     },
     "output_type": "display_data"
    }
   ],
   "source": [
    "while True:\n",
    "    data=generate_data()\n",
    "    producer.produce(topic,value=json.dumps(data),key=str(data[\"id\"]),callback=delivery_report)\n",
    "    producer.flush()\n",
    "    time.sleep(1)"
   ]
  },
  {
   "cell_type": "code",
   "execution_count": 0,
   "metadata": {
    "application/vnd.databricks.v1+cell": {
     "cellMetadata": {
      "byteLimit": 2048000,
      "rowLimit": 10000
     },
     "inputWidgets": {},
     "nuid": "95f977e1-7cfc-4e46-92db-9563b4155c0e",
     "showTitle": false,
     "tableResultSettingsMap": {},
     "title": ""
    }
   },
   "outputs": [],
   "source": []
  }
 ],
 "metadata": {
  "application/vnd.databricks.v1+notebook": {
   "computePreferences": null,
   "dashboards": [],
   "environmentMetadata": {
    "base_environment": "",
    "client": "1"
   },
   "language": "python",
   "notebookMetadata": {
    "pythonIndentUnit": 4
   },
   "notebookName": "producer",
   "widgets": {}
  },
  "language_info": {
   "name": "python"
  }
 },
 "nbformat": 4,
 "nbformat_minor": 0
}
